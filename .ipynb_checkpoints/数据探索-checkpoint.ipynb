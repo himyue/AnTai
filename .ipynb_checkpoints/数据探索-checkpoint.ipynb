{
 "cells": [
  {
   "cell_type": "markdown",
   "metadata": {},
   "source": [
    "# 安泰杯 非成熟国家用户购买预测 phase1"
   ]
  },
  {
   "cell_type": "code",
   "execution_count": 1,
   "metadata": {},
   "outputs": [],
   "source": [
    "import datetime\n",
    "import pandas as pd\n",
    "import numpy as np\n",
    "import os\n",
    "import seaborn as sns\n",
    "import matplotlib.pyplot as plt\n",
    "sns.set(style=\"darkgrid\")\n",
    "plt.rcParams['font.sans-serif']=['SimHei'] #用来正常显示中文标签\n",
    "plt.rcParams['font.family']='sans-serif'\n",
    "plt.rcParams['axes.unicode_minus']=False #用来正常显示\n",
    "from zipfile import ZipFile"
   ]
  },
  {
   "cell_type": "markdown",
   "metadata": {},
   "source": [
    "* 数据集特点：\n",
    "* 1）每个用户有至少7条购买数据；\n",
    "* 2）测试数据中每个用户的最后一条购买数据所对应的商品一定在训练数据中出现过；\n",
    "* 3）少量用户在两个国家有购买记录，评测中将忽略这部分记录；"
   ]
  },
  {
   "cell_type": "markdown",
   "metadata": {},
   "source": [
    "## 读取item 属性文件 2832669"
   ]
  },
  {
   "cell_type": "code",
   "execution_count": 2,
   "metadata": {},
   "outputs": [],
   "source": [
    "myzip=ZipFile('data/Antai_AE_round1_item_attr_20190626.zip')\n",
    "f=myzip.open('Antai_AE_round1_item_attr_20190626.csv')\n",
    "item_attr=pd.read_csv(f)\n",
    "f.close()\n",
    "myzip.close()"
   ]
  },
  {
   "cell_type": "markdown",
   "metadata": {},
   "source": [
    "* 基本信息"
   ]
  },
  {
   "cell_type": "code",
   "execution_count": 3,
   "metadata": {},
   "outputs": [
    {
     "data": {
      "text/html": [
       "<div>\n",
       "<style scoped>\n",
       "    .dataframe tbody tr th:only-of-type {\n",
       "        vertical-align: middle;\n",
       "    }\n",
       "\n",
       "    .dataframe tbody tr th {\n",
       "        vertical-align: top;\n",
       "    }\n",
       "\n",
       "    .dataframe thead th {\n",
       "        text-align: right;\n",
       "    }\n",
       "</style>\n",
       "<table border=\"1\" class=\"dataframe\">\n",
       "  <thead>\n",
       "    <tr style=\"text-align: right;\">\n",
       "      <th></th>\n",
       "      <th>item_id</th>\n",
       "      <th>cate_id</th>\n",
       "      <th>store_id</th>\n",
       "      <th>item_price</th>\n",
       "    </tr>\n",
       "  </thead>\n",
       "  <tbody>\n",
       "    <tr>\n",
       "      <th>0</th>\n",
       "      <td>240607</td>\n",
       "      <td>1495</td>\n",
       "      <td>12239</td>\n",
       "      <td>1</td>\n",
       "    </tr>\n",
       "    <tr>\n",
       "      <th>1</th>\n",
       "      <td>285232</td>\n",
       "      <td>1498</td>\n",
       "      <td>12239</td>\n",
       "      <td>1</td>\n",
       "    </tr>\n",
       "    <tr>\n",
       "      <th>2</th>\n",
       "      <td>113669</td>\n",
       "      <td>1503</td>\n",
       "      <td>12239</td>\n",
       "      <td>1</td>\n",
       "    </tr>\n",
       "    <tr>\n",
       "      <th>3</th>\n",
       "      <td>253601</td>\n",
       "      <td>1422</td>\n",
       "      <td>12239</td>\n",
       "      <td>1</td>\n",
       "    </tr>\n",
       "    <tr>\n",
       "      <th>4</th>\n",
       "      <td>246568</td>\n",
       "      <td>1497</td>\n",
       "      <td>12239</td>\n",
       "      <td>1</td>\n",
       "    </tr>\n",
       "  </tbody>\n",
       "</table>\n",
       "</div>"
      ],
      "text/plain": [
       "   item_id  cate_id  store_id  item_price\n",
       "0   240607     1495     12239           1\n",
       "1   285232     1498     12239           1\n",
       "2   113669     1503     12239           1\n",
       "3   253601     1422     12239           1\n",
       "4   246568     1497     12239           1"
      ]
     },
     "execution_count": 3,
     "metadata": {},
     "output_type": "execute_result"
    }
   ],
   "source": [
    "item_attr.head()"
   ]
  },
  {
   "cell_type": "code",
   "execution_count": 4,
   "metadata": {},
   "outputs": [
    {
     "name": "stdout",
     "output_type": "stream",
     "text": [
      "(2832669, 4)\n",
      "            item_id       cate_id      store_id    item_price\n",
      "count  2.832669e+06  2.832669e+06  2.832669e+06  2.832669e+06\n",
      "mean   6.429138e+06  1.481102e+03  4.025646e+04  1.124003e+03\n",
      "std    3.725431e+06  9.230869e+02  2.437092e+04  2.110617e+03\n",
      "min    1.000000e+00  1.000000e+00  1.000000e+00  1.000000e+00\n",
      "25%    3.224114e+06  6.000000e+02  1.985000e+04  1.800000e+02\n",
      "50%    6.391845e+06  1.499000e+03  3.895400e+04  4.000000e+02\n",
      "75%    9.636216e+06  2.050000e+03  5.840600e+04  1.200000e+03\n",
      "max    1.304673e+07  4.243000e+03  9.510500e+04  2.023000e+04\n",
      "item_id       0\n",
      "cate_id       0\n",
      "store_id      0\n",
      "item_price    0\n",
      "dtype: int64\n",
      "(2832669,)\n",
      "(4243,)\n",
      "(95105,)\n",
      "(20230,)\n"
     ]
    }
   ],
   "source": [
    "print(item_attr.shape)#看整体\n",
    "print(item_attr.describe())#看整体描述\n",
    "print(item_attr.isnull().sum())#看是否有空\n",
    "print(item_attr.item_id.unique().shape)#看item个数\n",
    "print(item_attr.cate_id.unique().shape)#cate_id\n",
    "print(item_attr.store_id.unique().shape)#store_id\n",
    "print(item_attr.item_price.unique().shape)#item_price"
   ]
  },
  {
   "cell_type": "code",
   "execution_count": 6,
   "metadata": {},
   "outputs": [
    {
     "data": {
      "text/plain": [
       "<matplotlib.axes._subplots.AxesSubplot at 0x7f7a8c3ea940>"
      ]
     },
     "execution_count": 6,
     "metadata": {},
     "output_type": "execute_result"
    },
    {
     "data": {
      "image/png": "[encoded data removed]",
      "text/plain": [
       "<Figure size 1080x648 with 1 Axes>"
      ]
     },
     "metadata": {
      "needs_background": "light"
     },
     "output_type": "display_data"
    }
   ],
   "source": [
    "item_attr.item_price.value_counts().head(50).plot.bar(figsize=(15,9)) # 价格基本分区情况；top10 都在1000块以下"
   ]
  },
  {
   "cell_type": "markdown",
   "metadata": {},
   "source": [
    "## 读取train 属性文件 12868509"
   ]
  },
  {
   "cell_type": "code",
   "execution_count": null,
   "metadata": {},
   "outputs": [],
   "source": [
    "myzip=ZipFile('data/Antai_AE_round1_train_20190626.zip')\n",
    "f=myzip.open('Antai_AE_round1_train_20190626.csv')\n",
    "train=pd.read_csv(f)\n",
    "f.close()\n",
    "myzip.close()"
   ]
  },
  {
   "cell_type": "code",
   "execution_count": null,
   "metadata": {},
   "outputs": [],
   "source": [
    "print(train.shape)#看整体\n",
    "print(train.describe())#看整体描述\n",
    "print(train.isnull().sum())#看是否有空\n",
    "print(train.buyer_country_id.unique().shape)#buyer_country_id # 买家国家id, 只有'xx'和'yy'两种取值\n",
    "print(train.buyer_admin_id.unique().shape)#buyer_admin_id # 买家id\n",
    "print(train.item_id.unique().shape)#item_id\n",
    "print(train.irank.unique().shape)#irank # irank: 每个买家对应的所有记录按照时间顺序的逆排序\n",
    "print(train.create_order_time.min(),train.create_order_time.max())#item_price"
   ]
  },
  {
   "cell_type": "code",
   "execution_count": null,
   "metadata": {},
   "outputs": [],
   "source": [
    "train['create_order_time'] = train.create_order_time.apply(lambda x:pd.to_datetime(x))\n",
    "train['hour']=train['create_order_time'].dt.hour\n",
    "train['date']=train['create_order_time'].dt.day\n",
    "train['month']=train['create_order_time'].dt.month\n",
    "train['year']=train['create_order_time'].dt.year\n",
    "train['month-date'] = train.month.astype(str)+'-'+train.date.astype(str)\n",
    "train['count'] = 1"
   ]
  },
  {
   "cell_type": "code",
   "execution_count": null,
   "metadata": {},
   "outputs": [],
   "source": [
    "train.head()"
   ]
  },
  {
   "cell_type": "code",
   "execution_count": null,
   "metadata": {},
   "outputs": [],
   "source": [
    "# 按国家查看\n",
    "print (train.groupby('buyer_country_id')['count'].sum())\n",
    "print (train[train.month==7].groupby('buyer_country_id')['count'].sum())\n",
    "print (train[train.month==8].groupby('buyer_country_id')['count'].sum())"
   ]
  },
  {
   "cell_type": "code",
   "execution_count": null,
   "metadata": {},
   "outputs": [],
   "source": [
    "# 按最高购买用户查看\n",
    "train.groupby(['buyer_country_id','buyer_admin_id'])['count'].sum().reset_index().sort_values('count',ascending=False).head()"
   ]
  },
  {
   "cell_type": "code",
   "execution_count": null,
   "metadata": {},
   "outputs": [],
   "source": [
    "# 按最低购买用户查看\n",
    "train.groupby(['buyer_country_id','buyer_admin_id'])['count'].sum().reset_index().sort_values('count').head()"
   ]
  },
  {
   "cell_type": "code",
   "execution_count": null,
   "metadata": {},
   "outputs": [],
   "source": [
    "# 按照天分布画图\n",
    "train.groupby(['month-date'])['count'].sum().reset_index().sort_values(['month-date']).plot.bar(x='month-date',figsize=(15,8))"
   ]
  },
  {
   "cell_type": "markdown",
   "metadata": {},
   "source": [
    "* 有一定的周季节性大致；可以加入是否是周末这种特征\n",
    "* 同时发现7月用户购买的很少，xx为何还会这么少呢？7月到低为何一定要有呢，"
   ]
  },
  {
   "cell_type": "code",
   "execution_count": null,
   "metadata": {},
   "outputs": [],
   "source": [
    "train[train.month==7].buyer_admin_id.unique().shape"
   ]
  },
  {
   "cell_type": "code",
   "execution_count": null,
   "metadata": {},
   "outputs": [],
   "source": [
    "train[(train.month==8)&(train.buyer_admin_id.isin(train[train.month==7].buyer_admin_id.unique()))].buyer_admin_id.unique().shape"
   ]
  },
  {
   "cell_type": "code",
   "execution_count": null,
   "metadata": {},
   "outputs": [],
   "source": [
    "buy_month7_not_month8_user = train[(train.month==7)&(~train.buyer_admin_id.isin(train[train.month==8].buyer_admin_id.unique()))]#"
   ]
  },
  {
   "cell_type": "code",
   "execution_count": null,
   "metadata": {},
   "outputs": [],
   "source": [
    "buy_month7_not_month8_user.groupby('buyer_admin_id')['count'].sum().plot.bar(figsize=(15,7))"
   ]
  },
  {
   "cell_type": "code",
   "execution_count": null,
   "metadata": {},
   "outputs": [],
   "source": [
    "# 按照小时分布画图\n",
    "train.groupby(['hour'])['count'].sum().reset_index().sort_values(['hour']).plot.bar(x='hour',figsize=(15,8))"
   ]
  },
  {
   "cell_type": "markdown",
   "metadata": {},
   "source": [
    "* 有点儿奇怪；为何大凌晨的开始购买呢？数据记录时间是北京时间？"
   ]
  },
  {
   "cell_type": "markdown",
   "metadata": {},
   "source": [
    "## 读取test文件 166832"
   ]
  },
  {
   "cell_type": "code",
   "execution_count": null,
   "metadata": {},
   "outputs": [],
   "source": [
    "test=pd.read_csv('data/Antai_AE_round1_test_20190626.csv')"
   ]
  },
  {
   "cell_type": "code",
   "execution_count": null,
   "metadata": {},
   "outputs": [],
   "source": [
    "test.shape"
   ]
  },
  {
   "cell_type": "code",
   "execution_count": null,
   "metadata": {},
   "outputs": [],
   "source": [
    "print(test.shape)#看整体\n",
    "print(test.describe())#看整体描述\n",
    "print(test.isnull().sum())#看是否有空\n",
    "print(test.buyer_country_id.unique().shape)#buyer_country_id # 买家国家id, 只有'xx'和'yy'两种取值\n",
    "print(test.buyer_admin_id.unique().shape)#buyer_admin_id # 买家id\n",
    "print(test.item_id.unique().shape)#item_id\n",
    "print(test.irank.unique().shape)#irank # irank: 每个买家对应的所有记录按照时间顺序的逆排序\n",
    "print(test.create_order_time.min(),test.create_order_time.max())#item_price"
   ]
  },
  {
   "cell_type": "code",
   "execution_count": null,
   "metadata": {},
   "outputs": [],
   "source": [
    "test['create_order_time'] = test.create_order_time.apply(lambda x:pd.to_datetime(x))\n",
    "test['hour']=test['create_order_time'].dt.hour\n",
    "test['date']=test['create_order_time'].dt.day\n",
    "test['month']=test['create_order_time'].dt.month\n",
    "test['year']=test['create_order_time'].dt.year\n",
    "test['month-date'] = test.month.astype(str)+'-'+test.date.astype(str)\n",
    "test['count'] = 1"
   ]
  },
  {
   "cell_type": "code",
   "execution_count": null,
   "metadata": {},
   "outputs": [],
   "source": [
    "print (test[test.month==7].groupby('buyer_country_id')['count'].sum())\n",
    "print (test[test.month==8].groupby('buyer_country_id')['count'].sum())"
   ]
  },
  {
   "cell_type": "code",
   "execution_count": null,
   "metadata": {},
   "outputs": [],
   "source": [
    "# 按最高购买用户查看\n",
    "test.groupby(['buyer_country_id','buyer_admin_id'])['count'].sum().reset_index().sort_values('count',ascending=False).head()"
   ]
  },
  {
   "cell_type": "code",
   "execution_count": null,
   "metadata": {},
   "outputs": [],
   "source": [
    "# 按最高购买用户查看\n",
    "test.groupby(['buyer_country_id','buyer_admin_id'])['count'].sum().reset_index().sort_values('count',ascending=True).head()"
   ]
  },
  {
   "cell_type": "code",
   "execution_count": null,
   "metadata": {},
   "outputs": [],
   "source": [
    "# 按照天分布画图\n",
    "test.groupby(['month-date'])['count'].sum().reset_index().sort_values(['month-date']).plot.bar(x='month-date',figsize=(15,8))"
   ]
  },
  {
   "cell_type": "code",
   "execution_count": null,
   "metadata": {},
   "outputs": [],
   "source": [
    "# test 100% 7月的用户都在8月买过"
   ]
  },
  {
   "cell_type": "code",
   "execution_count": null,
   "metadata": {},
   "outputs": [],
   "source": [
    "buy_month7_not_month8_user_test = test[(test.month==7)&(~test.buyer_admin_id.isin(test[test.month==8].buyer_admin_id.unique()))]#"
   ]
  },
  {
   "cell_type": "code",
   "execution_count": null,
   "metadata": {},
   "outputs": [],
   "source": [
    "buy_month7_not_month8_user_test"
   ]
  },
  {
   "cell_type": "code",
   "execution_count": null,
   "metadata": {},
   "outputs": [],
   "source": [
    "# 按照小时分布画图\n",
    "test.groupby(['hour'])['count'].sum().reset_index().sort_values(['hour']).plot.bar(x='hour',figsize=(15,8))"
   ]
  },
  {
   "cell_type": "markdown",
   "metadata": {},
   "source": [
    "* 验证test和train是否有交叉的irank；6个如下"
   ]
  },
  {
   "cell_type": "code",
   "execution_count": null,
   "metadata": {},
   "outputs": [],
   "source": [
    "test[test.buyer_admin_id.isin(train.buyer_admin_id.unique())].groupby('buyer_admin_id').irank.max()"
   ]
  },
  {
   "cell_type": "code",
   "execution_count": null,
   "metadata": {},
   "outputs": [],
   "source": [
    "train[train.buyer_admin_id.isin(test.buyer_admin_id.unique())].groupby('buyer_admin_id').irank.max()"
   ]
  },
  {
   "cell_type": "code",
   "execution_count": null,
   "metadata": {},
   "outputs": [],
   "source": []
  }
 ],
 "metadata": {
  "kernelspec": {
   "display_name": "Python 3",
   "language": "python",
   "name": "python3"
  },
  "language_info": {
   "codemirror_mode": {
    "name": "ipython",
    "version": 3
   },
   "file_extension": ".py",
   "mimetype": "text/x-python",
   "name": "python",
   "nbconvert_exporter": "python",
   "pygments_lexer": "ipython3",
   "version": "3.7.3"
  }
 },
 "nbformat": 4,
 "nbformat_minor": 2
}
